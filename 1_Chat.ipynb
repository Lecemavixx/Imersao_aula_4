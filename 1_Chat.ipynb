{
  "nbformat": 4,
  "nbformat_minor": 0,
  "metadata": {
    "colab": {
      "provenance": [],
      "authorship_tag": "ABX9TyOEveu2LVLYlyRrhqy4+GBX",
      "include_colab_link": true
    },
    "kernelspec": {
      "name": "python3",
      "display_name": "Python 3"
    },
    "language_info": {
      "name": "python"
    }
  },
  "cells": [
    {
      "cell_type": "markdown",
      "metadata": {
        "id": "view-in-github",
        "colab_type": "text"
      },
      "source": [
        "<a href=\"https://colab.research.google.com/github/Lecemavixx/Imersao_aula_4/blob/main/1_Chat.ipynb\" target=\"_parent\"><img src=\"https://colab.research.google.com/assets/colab-badge.svg\" alt=\"Open In Colab\"/></a>"
      ]
    },
    {
      "cell_type": "markdown",
      "source": [
        "Estamos fazendo em python os recursos disponíveis no Google AI Studio"
      ],
      "metadata": {
        "id": "KHtKmKePOUsI"
      }
    },
    {
      "cell_type": "code",
      "execution_count": 1,
      "metadata": {
        "id": "APGXFq6nMCSy"
      },
      "outputs": [],
      "source": [
        "#Instalando o SDK do Google\n",
        "!pip install -q -U google-generativeai"
      ]
    },
    {
      "cell_type": "code",
      "execution_count": 20,
      "metadata": {
        "id": "IthzwfnAfcsi"
      },
      "outputs": [],
      "source": [
        "#Configurações iniciais\n",
        "import google.generativeai as genai\n",
        "from google.colab import userdata\n",
        "api_key = userdata.get('SECRET_KEY')\n",
        "genai.configure(api_key=api_key)"
      ]
    },
    {
      "cell_type": "code",
      "execution_count": null,
      "metadata": {
        "id": "iD3ihugymWBt"
      },
      "outputs": [],
      "source": [
        "#Listando os modelos disponíveis\n",
        "for m in genai.list_models():\n",
        "  if 'generateContent' in m.supported_generation_methods:\n",
        "    print(m.name)\n",
        "\n",
        "# o pro - solicitacoes somente de texto\n",
        "# o pro vision - solicitacoes onde vai enviar imagens\n",
        "# versão estável = models/gemini-1.0-pro\n",
        "# versão experimental - models/gemini-1.0-pro-001\n",
        "# models/gemini-1.0-pro-latest - aponta para ultima versão disponível"
      ]
    },
    {
      "cell_type": "code",
      "execution_count": 4,
      "metadata": {
        "id": "O1ochaeyDn_o"
      },
      "outputs": [],
      "source": [
        "generation_config = {\n",
        "  \"candidate_count\": 1,\n",
        "  \"temperature\": 0.5,\n",
        "}"
      ]
    },
    {
      "cell_type": "code",
      "execution_count": 5,
      "metadata": {
        "id": "jwBv7DofDofw"
      },
      "outputs": [],
      "source": [
        "safety_settings={\n",
        "    'HATE': 'BLOCK_NONE',\n",
        "    'HARASSMENT': 'BLOCK_NONE',\n",
        "    'SEXUAL' : 'BLOCK_NONE',\n",
        "    'DANGEROUS' : 'BLOCK_NONE'\n",
        "    }"
      ]
    },
    {
      "cell_type": "code",
      "execution_count": 6,
      "metadata": {
        "id": "NIiSs1R5mVJE"
      },
      "outputs": [],
      "source": [
        "# inicializando o modelo\n",
        "model = genai.GenerativeModel(model_name='gemini-1.0-pro',\n",
        "                                  generation_config=generation_config,\n",
        "                                  safety_settings=safety_settings,)"
      ]
    },
    {
      "cell_type": "code",
      "execution_count": null,
      "metadata": {
        "id": "vrRjhT2rlrU_"
      },
      "outputs": [],
      "source": [
        "response = model.generate_content(\"Qual a cerveja mais gostosa do mundo?\")\n",
        "print(response.text)"
      ]
    },
    {
      "cell_type": "code",
      "execution_count": null,
      "metadata": {
        "id": "KpaQ6hm5f2_J"
      },
      "outputs": [],
      "source": [
        "# Criação do chat\n",
        "\n",
        "# inicializa o chat com o modelo\n",
        "chat = model.start_chat(history=[])\n",
        "\n",
        "# cria o prompt inicial\n",
        "prompt = input('Esperando prompt: ')\n",
        "\n",
        "# enquanto o critério de parada não for digitado\n",
        "while prompt != \"fim\":\n",
        "  # pega a resposta do prompt\n",
        "  response = chat.send_message(prompt)\n",
        "  print(\"Resposta:\", response.text, '\\n\\n')\n",
        "  prompt = input('Esperando prompt: ')"
      ]
    },
    {
      "cell_type": "code",
      "execution_count": null,
      "metadata": {
        "id": "XLAniTTDhHNW"
      },
      "outputs": [],
      "source": [
        "chat"
      ]
    },
    {
      "cell_type": "code",
      "execution_count": null,
      "metadata": {
        "id": "sd8mvW9KghTf"
      },
      "outputs": [],
      "source": [
        "chat.history"
      ]
    },
    {
      "cell_type": "code",
      "execution_count": 17,
      "metadata": {
        "id": "dAcbPBocgzeX",
        "colab": {
          "base_uri": "https://localhost:8080/",
          "height": 764
        },
        "outputId": "4f425907-977b-432a-86ea-3c4a4d6ee2f5"
      },
      "outputs": [
        {
          "output_type": "display_data",
          "data": {
            "text/plain": [
              "<IPython.core.display.Markdown object>"
            ],
            "text/markdown": "> **user**: Qual a capital do usbekstão?"
          },
          "metadata": {}
        },
        {
          "output_type": "stream",
          "name": "stdout",
          "text": [
            "-------------------------------------------\n"
          ]
        },
        {
          "output_type": "display_data",
          "data": {
            "text/plain": [
              "<IPython.core.display.Markdown object>"
            ],
            "text/markdown": "> **model**: Tashkent"
          },
          "metadata": {}
        },
        {
          "output_type": "stream",
          "name": "stdout",
          "text": [
            "-------------------------------------------\n"
          ]
        },
        {
          "output_type": "display_data",
          "data": {
            "text/plain": [
              "<IPython.core.display.Markdown object>"
            ],
            "text/markdown": "> **user**: comida típica?"
          },
          "metadata": {}
        },
        {
          "output_type": "stream",
          "name": "stdout",
          "text": [
            "-------------------------------------------\n"
          ]
        },
        {
          "output_type": "display_data",
          "data": {
            "text/plain": [
              "<IPython.core.display.Markdown object>"
            ],
            "text/markdown": "> **model**: **Plov (Osh)**\n> * Um prato de arroz cozido no vapor com carne, cenouras e cebolas. É o prato nacional do Uzbequistão e é normalmente servido com uma salada de tomate e cebola.\n> \n> **Lagman**\n> * Uma sopa de macarrão com carne, vegetais e especiarias. É originária da região de Xinjiang, na China, mas é popular em todo o Uzbequistão.\n> \n> **Manti**\n> * Bolinhos de massa cozidos a vapor ou fritos recheados com carne, cebola e especiarias. São normalmente servidos com uma calda de iogurte ou molho de tomate.\n> \n> **Shurpa**\n> * Uma sopa de carne e vegetais rica e saborosa. É tipicamente feita com cordeiro ou vaca, cenouras, cebolas e batatas.\n> \n> **Samsa**\n> * Pastéis assados ou fritos recheados com carne, cebola e especiarias. São um lanche popular e podem ser encontrados em todo o país.\n> \n> **Non**\n> * Pão achatado tradicional uzbeque. É normalmente cozido num forno tandoor e é servido com todas as refeições.\n> \n> **Chuchvara**\n> * Bolinhos de massa cozidos recheados com carne, cebola e especiarias. São semelhantes aos manti, mas são mais pequenos e são normalmente servidos numa sopa.\n> \n> **Dimlama**\n> * Um prato de carne e vegetais cozidos no vapor. É tipicamente feito com cordeiro ou vaca, cenouras, cebolas, batatas e especiarias.\n> \n> **Mastava**\n> * Uma sopa de iogurte com arroz, carne e vegetais. É um prato popular no verão e é muitas vezes servido frio.\n> \n> **Halim**\n> * Um prato de trigo partido cozido com carne, feijão e especiarias. É um prato popular durante o mês sagrado do Ramadã."
          },
          "metadata": {}
        },
        {
          "output_type": "stream",
          "name": "stdout",
          "text": [
            "-------------------------------------------\n"
          ]
        }
      ],
      "source": [
        "#Melhorando a visualização\n",
        "#Código disponível em https://ai.google.dev/tutorials/python_quickstart#import_packages\n",
        "import textwrap\n",
        "from IPython.display import display\n",
        "from IPython.display import Markdown\n",
        "\n",
        "def to_markdown(text):\n",
        "  text = text.replace('•', '  *')\n",
        "  return Markdown(textwrap.indent(text, '> ', predicate=lambda _: True))\n",
        "\n",
        "#Imprimindo o histórico\n",
        "for message in chat.history:\n",
        "  display(to_markdown(f'**{message.role}**: {message.parts[0].text}'))\n",
        "  print('-------------------------------------------')"
      ]
    }
  ]
}